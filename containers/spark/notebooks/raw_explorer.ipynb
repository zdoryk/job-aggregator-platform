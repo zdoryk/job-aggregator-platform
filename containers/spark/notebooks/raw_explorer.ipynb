{
 "cells": [
  {
   "cell_type": "markdown",
   "source": [],
   "metadata": {
    "collapsed": false
   }
  },
  {
   "cell_type": "code",
   "execution_count": 1,
   "outputs": [
    {
     "name": "stdout",
     "output_type": "stream",
     "text": [
      "Requirement already satisfied: pyspark in /Users/danylozdoryk/Documents/Private/Projects/GitHub/job-aggregator-platform/venv/lib/python3.9/site-packages (3.5.0)\r\n",
      "Requirement already satisfied: py4j==0.10.9.7 in /Users/danylozdoryk/Documents/Private/Projects/GitHub/job-aggregator-platform/venv/lib/python3.9/site-packages (from pyspark) (0.10.9.7)\r\n",
      "\u001B[33mWARNING: You are using pip version 22.0.4; however, version 23.3.2 is available.\r\n",
      "You should consider upgrading via the '/Users/danylozdoryk/Documents/Private/Projects/GitHub/job-aggregator-platform/venv/bin/python3 -m pip install --upgrade pip' command.\u001B[0m\u001B[33m\r\n",
      "\u001B[0m"
     ]
    }
   ],
   "source": [
    "from pyspark.sql import SparkSession\n",
    "from pyspark.sql.types import StructType, StructField, StringType, IntegerType\n",
    "\n",
    "# Create a Spark session\n",
    "spark = SparkSession.builder.appName(\"SampleData\").getOrCreate()\n",
    "spark.conf.set(\"spark.hadoop.fs.s3a.endpoint\", \"http://minio:9000\")\n",
    "spark.conf.set(\"spark.hadoop.fs.s3a.path.style.access\", \"true\")\n",
    "\n",
    "# Define the schema for the DataFrame\n",
    "schema = StructType([\n",
    "    StructField(\"id\", IntegerType(), True),\n",
    "    StructField(\"name\", StringType(), True),\n",
    "    StructField(\"age\", IntegerType(), True),\n",
    "    StructField(\"city\", StringType(), True)\n",
    "])\n",
    "\n",
    "# Sample data\n",
    "data = [\n",
    "    (1, \"John\", 25, \"New York\"),\n",
    "    (2, \"Alice\", 30, \"San Francisco\"),\n",
    "    (3, \"Bob\", 22, \"Los Angeles\"),\n",
    "    (4, \"Eve\", 28, \"Chicago\"),\n",
    "    (5, \"Charlie\", 35, \"Seattle\")\n",
    "]\n",
    "\n",
    "# Create a Spark DataFrame\n",
    "spark_df = spark.createDataFrame(data, schema=schema)\n",
    "\n",
    "# Show the DataFrame\n",
    "# spark_df.show()\n",
    "# (\n",
    "# spark_df.write.mode(\"overwrite\")\n",
    "#     .option(\"compression\", \"snappy\")\n",
    "#     .option(\"path\", \"minio://warehouse/olist_orders_dataset.delta\")\n",
    "#     .format(\"delta\")\n",
    "#     .saveAsTable(\"olist_orders_dataset\")\n",
    "# )\n",
    "\n",
    "# spark.hadoopConfiguration.set(\"fs.s3a.access.key\", \"minio\")\n",
    "# sc.hadoopConfiguration.set(\"fs.s3a.secret.key\", \"minio123\")\n",
    "spark_df.write.format(\"delta\").save(\"s3a://warehouse/olist_orders_dataset.delta\")\n",
    "\n"
   ],
   "metadata": {
    "collapsed": false,
    "ExecuteTime": {
     "end_time": "2023-12-26T19:39:28.161846Z",
     "start_time": "2023-12-26T19:39:26.648642Z"
    }
   }
  }
 ],
 "metadata": {
  "kernelspec": {
   "display_name": "Python 3",
   "language": "python",
   "name": "python3"
  },
  "language_info": {
   "codemirror_mode": {
    "name": "ipython",
    "version": 2
   },
   "file_extension": ".py",
   "mimetype": "text/x-python",
   "name": "python",
   "nbconvert_exporter": "python",
   "pygments_lexer": "ipython2",
   "version": "2.7.6"
  }
 },
 "nbformat": 4,
 "nbformat_minor": 0
}
