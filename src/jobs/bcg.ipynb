{
 "cells": [
  {
   "cell_type": "code",
   "execution_count": 69,
   "id": "initial_id",
   "metadata": {
    "collapsed": true,
    "ExecuteTime": {
     "end_time": "2024-01-02T20:11:59.178998Z",
     "start_time": "2024-01-02T20:11:59.176445Z"
    }
   },
   "outputs": [],
   "source": [
    "import requests\n",
    "import pandas\n",
    "from bs4 import BeautifulSoup\n",
    "import re\n",
    "import json\n",
    "\n",
    "base_url = \"https://careers.bcg.com/search-results\"\n"
   ]
  },
  {
   "cell_type": "code",
   "outputs": [
    {
     "ename": "AttributeError",
     "evalue": "'NoneType' object has no attribute 'text'",
     "output_type": "error",
     "traceback": [
      "\u001B[0;31m---------------------------------------------------------------------------\u001B[0m",
      "\u001B[0;31mAttributeError\u001B[0m                            Traceback (most recent call last)",
      "Cell \u001B[0;32mIn[70], line 3\u001B[0m\n\u001B[1;32m      1\u001B[0m response \u001B[38;5;241m=\u001B[39m requests\u001B[38;5;241m.\u001B[39mget(base_url)\n\u001B[1;32m      2\u001B[0m soup \u001B[38;5;241m=\u001B[39m BeautifulSoup(response\u001B[38;5;241m.\u001B[39mtext, \u001B[38;5;124m'\u001B[39m\u001B[38;5;124mhtml.parser\u001B[39m\u001B[38;5;124m'\u001B[39m)\n\u001B[0;32m----> 3\u001B[0m \u001B[43msoup\u001B[49m\u001B[38;5;241;43m.\u001B[39;49m\u001B[43mfind\u001B[49m\u001B[43m(\u001B[49m\u001B[38;5;124;43m'\u001B[39;49m\u001B[38;5;124;43mspan\u001B[39;49m\u001B[38;5;124;43m'\u001B[39;49m\u001B[43m,\u001B[49m\u001B[43m \u001B[49m\u001B[43m{\u001B[49m\u001B[38;5;124;43m'\u001B[39;49m\u001B[38;5;124;43mclass\u001B[39;49m\u001B[38;5;124;43m'\u001B[39;49m\u001B[43m:\u001B[49m\u001B[43m \u001B[49m\u001B[38;5;124;43m'\u001B[39;49m\u001B[38;5;124;43mresult-count\u001B[39;49m\u001B[38;5;124;43m'\u001B[39;49m\u001B[43m}\u001B[49m\u001B[43m)\u001B[49m\u001B[38;5;241;43m.\u001B[39;49m\u001B[43mtext\u001B[49m\n\u001B[1;32m      4\u001B[0m \u001B[38;5;66;03m# response.text\u001B[39;00m\n\u001B[1;32m      5\u001B[0m \u001B[38;5;66;03m# soup.find('script', {'type': 'text/javascript'}).text\u001B[39;00m\n",
      "\u001B[0;31mAttributeError\u001B[0m: 'NoneType' object has no attribute 'text'"
     ]
    }
   ],
   "source": [
    "response = requests.get(base_url)\n",
    "soup = BeautifulSoup(response.text, 'html.parser')\n",
    "soup.find('span', {'class': 'result-count'}).text\n",
    "# response.text\n",
    "# soup.find('script', {'type': 'text/javascript'}).text"
   ],
   "metadata": {
    "collapsed": false,
    "ExecuteTime": {
     "end_time": "2024-01-02T20:12:00.289302Z",
     "start_time": "2024-01-02T20:11:59.183475Z"
    }
   },
   "id": "c34cd40422168afb",
   "execution_count": 70
  },
  {
   "cell_type": "code",
   "outputs": [],
   "source": [
    "soup.find('script', {'type': 'text/javascript'}).text.split(';')[1]"
   ],
   "metadata": {
    "collapsed": false
   },
   "id": "4dd819d4fd0bc34d",
   "execution_count": null
  },
  {
   "cell_type": "code",
   "execution_count": null,
   "outputs": [],
   "source": [
    "# def find_and_parse_jsons(input_string):\n",
    "#     # Regular expression to find JSON strings\n",
    "#     json_pattern = re.compile(r'\\{.*?\\}')\n",
    "#\n",
    "#     # Find all JSON strings in the input string\n",
    "#     json_strings = re.findall(json_pattern, input_string)\n",
    "#\n",
    "#     # Parse each JSON string and store as a dictionary in a list\n",
    "#     json_dicts = []\n",
    "#     for json_str in json_strings:\n",
    "#         try:\n",
    "#             json_dict = json.loads(json_str)\n",
    "#             json_dicts.append(json_dict)\n",
    "#         except json.JSONDecodeError:\n",
    "#             print(f\"Error decoding JSON: {json_str}\")\n",
    "#\n",
    "#     return json_dicts\n",
    "#\n",
    "# find_and_parse_jsons(soup.find('script', {'type': 'text/javascript'}).text.replace('\\'', '').split(';')[1])"
   ],
   "metadata": {
    "collapsed": false
   }
  },
  {
   "cell_type": "code",
   "execution_count": null,
   "outputs": [],
   "source": [
    "text = soup.find('script', {'type': 'text/javascript'}).text\n",
    "# strip the text untill the first '{'\n",
    "text = text[text.find('{\"jobs\":[{\"'):]\n",
    "stack = 0\n",
    "counter = 0\n",
    "for x in text:\n",
    "    counter += 1\n",
    "    if x == '{':\n",
    "        stack += 1\n",
    "    elif x == '}':\n",
    "        stack -= 1\n",
    "    if stack == 0:\n",
    "        break\n",
    "\n",
    "jobs = json.loads(text[:counter]).get('jobs')\n",
    "len(jobs)\n",
    "# text = text[:text.rfind('}')+1]\n"
   ],
   "metadata": {
    "collapsed": false
   }
  },
  {
   "cell_type": "code",
   "execution_count": 74,
   "outputs": [
    {
     "data": {
      "text/plain": "445"
     },
     "execution_count": 74,
     "metadata": {},
     "output_type": "execute_result"
    }
   ],
   "source": [
    "api_url = 'https://careers.bcg.com/widgets'\n",
    "body = {\"lang\":\"en_us\",\"deviceType\":\"desktop\",\"country\":\"us\",\"pageName\":\"search-results\",\"ddoKey\":\"refineSearch\",\"sortBy\":\"\",\"subsearch\":\"\",\"from\":0,\"jobs\":True,\"counts\":True,\"all_fields\":[\"country\",\"city\",\"category\",\"company\"],\"size\":9999,\"clearAll\":False,\"jdsource\":\"facets\",\"isSliderEnable\":False,\"pageId\":\"page17\",\"siteType\":\"external\",\"keywords\":\"\",\"global\":True,\"selected_fields\":{},\"locationData\":{}}\n",
    "response = requests.post(api_url, json=body)\n",
    "response.json().get('refineSearch').get('hits')\n",
    "response.json().get('refineSearch').get('totalHits')\n",
    "len(response.json().get('refineSearch').get('data').get('jobs'))"
   ],
   "metadata": {
    "collapsed": false,
    "ExecuteTime": {
     "end_time": "2024-01-02T20:13:19.113644Z",
     "start_time": "2024-01-02T20:13:18.084350Z"
    }
   }
  },
  {
   "cell_type": "code",
   "execution_count": null,
   "outputs": [],
   "source": [],
   "metadata": {
    "collapsed": false
   }
  }
 ],
 "metadata": {
  "kernelspec": {
   "display_name": "Python 3",
   "language": "python",
   "name": "python3"
  },
  "language_info": {
   "codemirror_mode": {
    "name": "ipython",
    "version": 2
   },
   "file_extension": ".py",
   "mimetype": "text/x-python",
   "name": "python",
   "nbconvert_exporter": "python",
   "pygments_lexer": "ipython2",
   "version": "2.7.6"
  }
 },
 "nbformat": 4,
 "nbformat_minor": 5
}
