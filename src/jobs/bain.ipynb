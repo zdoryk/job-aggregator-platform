{
 "cells": [
  {
   "cell_type": "code",
   "execution_count": 41,
   "id": "initial_id",
   "metadata": {
    "collapsed": true,
    "ExecuteTime": {
     "end_time": "2024-01-01T19:16:04.199179400Z",
     "start_time": "2024-01-01T19:16:04.191861600Z"
    }
   },
   "outputs": [],
   "source": [
    "import requests\n",
    "import pandas"
   ]
  },
  {
   "cell_type": "code",
   "outputs": [],
   "source": [
    "base_url = \"https://www.bain.com/en/api/jobsearch/keyword/get\""
   ],
   "metadata": {
    "collapsed": false,
    "ExecuteTime": {
     "end_time": "2024-01-01T19:16:04.199179400Z",
     "start_time": "2024-01-01T19:16:04.195178Z"
    }
   },
   "id": "352b35983da44404",
   "execution_count": 42
  },
  {
   "cell_type": "code",
   "outputs": [],
   "source": [
    "res = requests.get(base_url + \"?results=1\").json()"
   ],
   "metadata": {
    "collapsed": false,
    "ExecuteTime": {
     "end_time": "2024-01-01T19:16:04.945799400Z",
     "start_time": "2024-01-01T19:16:04.198178500Z"
    }
   },
   "id": "46abddc6b5a4e71e",
   "execution_count": 43
  },
  {
   "cell_type": "code",
   "outputs": [
    {
     "data": {
      "text/plain": "[{'JobId': '81228',\n  'JobTitle': 'Analyst/Associate, WebApp QA (NPS Prism)',\n  'JobDescription': '<p id=\"isPasted\"><span>&nbsp;<br> <strong><u><span>Position Summary:</span></u></strong></span></p><p><span>This is an opportunity to support Bain’s expanding proprietary data business, helping to build a new start-up at Bain to deliver the NPS Prism product, a market-leading customer experience benchmarking service. NPS Prism creates NPS and episode benchmarks by surveying very large numbers of customers in a given sector.&nbsp;</span></p><p><span>Customers are asked to identify the companies with which they do business, declare their likelihood to recommend each provider, describe why, and answer a battery of additional questions designed to reveal experiences with specific episodes, as well as share of wallet, channel preference, and other important data.</span></p><p><span>NPS Prism Quality Analyst will work closely with the Prism Project lead and Prism Project Manager to identify and remedy defects within the data pipelines of the NPS prism products and solutions.&nbsp;</span></p><p><strong><span>Responsibilities:</span></strong></p><p><strong><u><span>Essential Functions:</span></u></strong></p><ul><li><span>Recommend, implement, and monitor preventative and corrective actions to ensure that data quality standards are achieved.&nbsp;</span></li><li><span>Scrip automation using selenium along with manual testing</span></li></ul><ul type=\"disc\"><ul type=\"circle\"><li><span>Analyse business requirements to determine the test strategy covered by automation testing</span></li><li><span>Design &amp; Implement Test Automation Strategy using Selenium</span></li><li><span>Create test plans and execute test cases to have Zero Defect Webapp release</span></li><li><span>Implement Junit or TestNG Test Automation framework and develop automation infrastructure</span></li><li><span>Create reusable components in selenium</span></li><li><span>Create and enhance Test Cases (Test Scripts) using Element locators, WebDriver methods, Java programming concepts, and TestNG Annotations</span></li><li><span>Create &amp; execute test cases for Web Applications</span></li><li><span>Configure Selenium Test Environment&nbsp;and setup for other team members</span></li><li><span>Define future ready Automation Framework Design and Implementation</span></li><li><span>Create, Organize, and Manage Test Automation suite</span></li><li><span>Create, Enhance, debug, and Run Test Cases both Manual and Automation</span></li><li><span>Organize and monitor defect management process leveraging JIRA</span></li><li><span>Handle changes and conduct Regression Testing on new releases</span></li><li><span>Coordinate with Development team for issue resolution</span></li><li><span>Provide client support during times of releases</span></li></ul></ul><p><strong><span>&nbsp;</span></strong></p><p><strong><u><span>Qualifications:</span></u></strong></p><ul><li><strong><span>Work experience</span></strong><strong><span>: 3-7 years’ experience in similar role</span></strong><ol><li><strong><span>Analyst or Associate role with experience in Java, Selenium Webdriver API, DevOps &amp; Agile environments</span></strong></li></ol></li><li><strong><span>Education Required</span></strong><strong><span>:&nbsp;</span></strong><span>Incumbent should have an engineering degree from a top-tier institute or have pursued an engineering course from a tier 1 university</span></li><li><strong><span>Knowledge, Skills and Abilities Required:</span></strong><ol><li><span>Hands-on experience and knowledge of working in Selenium, MS Excel, JIRA, Confluence.</span></li><li><span>Proficient programming skills on Java (Good to have Python, C#, and Ruby)</span></li><li><span>Hands on experience in Selenium WebDriver API</span></li><li><span>Working knowledge of DevOps and agile environments</span></li><li><span>Rigorous and quality conscious</span></li><li><span>Proven self-starter (comfortable with what could be a remote team) with demonstrated problem solving and organizational skills</span></li></ol></li></ul>',\n  'Link': '/careers/find-a-role/position/?jobid=81228',\n  'Location': ['New Delhi'],\n  'Categories': ['Product Management & Innovation ',\n   ' Technology & Engineering'],\n  'EmployeeType': 'Permanent Full-Time'}]"
     },
     "execution_count": 44,
     "metadata": {},
     "output_type": "execute_result"
    }
   ],
   "source": [
    "res.get('results')"
   ],
   "metadata": {
    "collapsed": false,
    "ExecuteTime": {
     "end_time": "2024-01-01T19:16:04.949848500Z",
     "start_time": "2024-01-01T19:16:04.946799100Z"
    }
   },
   "id": "7dd6d6772cd26d55",
   "execution_count": 44
  },
  {
   "cell_type": "code",
   "outputs": [
    {
     "data": {
      "text/plain": "['Analyst/Associate, WebApp QA (NPS Prism)']"
     },
     "execution_count": 45,
     "metadata": {},
     "output_type": "execute_result"
    }
   ],
   "source": [
    "[x.get(\"JobTitle\") for x in res.get('results')]"
   ],
   "metadata": {
    "collapsed": false,
    "ExecuteTime": {
     "end_time": "2024-01-01T19:16:04.954314800Z",
     "start_time": "2024-01-01T19:16:04.950846400Z"
    }
   },
   "id": "6aa5b4d2808010c4",
   "execution_count": 45
  },
  {
   "cell_type": "code",
   "outputs": [
    {
     "data": {
      "text/plain": "47"
     },
     "execution_count": 46,
     "metadata": {},
     "output_type": "execute_result"
    }
   ],
   "source": [
    "num_of_posts = res.get('totalResults')\n",
    "num_of_posts"
   ],
   "metadata": {
    "collapsed": false,
    "ExecuteTime": {
     "end_time": "2024-01-01T19:16:04.959313400Z",
     "start_time": "2024-01-01T19:16:04.953313700Z"
    }
   },
   "id": "b490047d8d0ec3a8",
   "execution_count": 46
  },
  {
   "cell_type": "code",
   "outputs": [],
   "source": [
    "res = requests.get(base_url.format(num_of_posts)).json()\n",
    "pandas.DataFrame(res.get('results')).to_csv(\"bain.csv\", index=False)"
   ],
   "metadata": {
    "collapsed": false,
    "ExecuteTime": {
     "end_time": "2024-01-01T19:17:17.622101400Z",
     "start_time": "2024-01-01T19:17:16.985056Z"
    }
   },
   "id": "40ec18c751f400b",
   "execution_count": 51
  },
  {
   "cell_type": "code",
   "outputs": [],
   "source": [],
   "metadata": {
    "collapsed": false,
    "ExecuteTime": {
     "start_time": "2024-01-01T19:16:05.558451Z"
    }
   },
   "id": "cc4f79cd7c827f51"
  }
 ],
 "metadata": {
  "kernelspec": {
   "display_name": "Python 3",
   "language": "python",
   "name": "python3"
  },
  "language_info": {
   "codemirror_mode": {
    "name": "ipython",
    "version": 2
   },
   "file_extension": ".py",
   "mimetype": "text/x-python",
   "name": "python",
   "nbconvert_exporter": "python",
   "pygments_lexer": "ipython2",
   "version": "2.7.6"
  }
 },
 "nbformat": 4,
 "nbformat_minor": 5
}
